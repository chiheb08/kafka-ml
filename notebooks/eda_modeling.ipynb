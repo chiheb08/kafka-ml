{
 "cells": [
  {
   "cell_type": "markdown",
   "metadata": {},
   "source": [
    "### Import Librairies : "
   ]
  },
  {
   "cell_type": "code",
   "execution_count": 1,
   "metadata": {},
   "outputs": [],
   "source": [
    "import pandas as pd\n",
    "import glob\n",
    "import numpy as np\n",
    "import matplotlib.pyplot as plt\n",
    "import os\n",
    "import warnings \n",
    "import joblib\n",
    "import json\n",
    "warnings.filterwarnings('ignore')\n",
    "\n",
    "%matplotlib inline"
   ]
  },
  {
   "cell_type": "code",
   "execution_count": 2,
   "metadata": {},
   "outputs": [],
   "source": [
    "plt.rcParams[\"figure.figsize\"] = (9,6)\n"
   ]
  },
  {
   "cell_type": "markdown",
   "metadata": {},
   "source": [
    "### Read data : "
   ]
  },
  {
   "cell_type": "code",
   "execution_count": 5,
   "metadata": {},
   "outputs": [
    {
     "data": {
      "text/html": [
       "<div>\n",
       "<style scoped>\n",
       "    .dataframe tbody tr th:only-of-type {\n",
       "        vertical-align: middle;\n",
       "    }\n",
       "\n",
       "    .dataframe tbody tr th {\n",
       "        vertical-align: top;\n",
       "    }\n",
       "\n",
       "    .dataframe thead th {\n",
       "        text-align: right;\n",
       "    }\n",
       "</style>\n",
       "<table border=\"1\" class=\"dataframe\">\n",
       "  <thead>\n",
       "    <tr style=\"text-align: right;\">\n",
       "      <th></th>\n",
       "      <th>timestamp</th>\n",
       "      <th>value</th>\n",
       "    </tr>\n",
       "  </thead>\n",
       "  <tbody>\n",
       "    <tr>\n",
       "      <th>0</th>\n",
       "      <td>2014-02-14 14:30:00</td>\n",
       "      <td>0.132</td>\n",
       "    </tr>\n",
       "    <tr>\n",
       "      <th>1</th>\n",
       "      <td>2014-02-14 14:35:00</td>\n",
       "      <td>0.134</td>\n",
       "    </tr>\n",
       "    <tr>\n",
       "      <th>2</th>\n",
       "      <td>2014-02-14 14:40:00</td>\n",
       "      <td>0.134</td>\n",
       "    </tr>\n",
       "    <tr>\n",
       "      <th>3</th>\n",
       "      <td>2014-02-14 14:45:00</td>\n",
       "      <td>0.134</td>\n",
       "    </tr>\n",
       "    <tr>\n",
       "      <th>4</th>\n",
       "      <td>2014-02-14 14:50:00</td>\n",
       "      <td>0.134</td>\n",
       "    </tr>\n",
       "    <tr>\n",
       "      <th>5</th>\n",
       "      <td>2014-02-14 14:55:00</td>\n",
       "      <td>0.134</td>\n",
       "    </tr>\n",
       "    <tr>\n",
       "      <th>6</th>\n",
       "      <td>2014-02-14 15:00:00</td>\n",
       "      <td>0.134</td>\n",
       "    </tr>\n",
       "    <tr>\n",
       "      <th>7</th>\n",
       "      <td>2014-02-14 15:05:00</td>\n",
       "      <td>0.134</td>\n",
       "    </tr>\n",
       "    <tr>\n",
       "      <th>8</th>\n",
       "      <td>2014-02-14 15:10:00</td>\n",
       "      <td>0.066</td>\n",
       "    </tr>\n",
       "    <tr>\n",
       "      <th>9</th>\n",
       "      <td>2014-02-14 15:15:00</td>\n",
       "      <td>0.132</td>\n",
       "    </tr>\n",
       "    <tr>\n",
       "      <th>10</th>\n",
       "      <td>2014-02-14 15:20:00</td>\n",
       "      <td>0.134</td>\n",
       "    </tr>\n",
       "    <tr>\n",
       "      <th>11</th>\n",
       "      <td>2014-02-14 15:25:00</td>\n",
       "      <td>0.066</td>\n",
       "    </tr>\n",
       "    <tr>\n",
       "      <th>12</th>\n",
       "      <td>2014-02-14 15:30:00</td>\n",
       "      <td>0.132</td>\n",
       "    </tr>\n",
       "    <tr>\n",
       "      <th>13</th>\n",
       "      <td>2014-02-14 15:35:00</td>\n",
       "      <td>0.202</td>\n",
       "    </tr>\n",
       "    <tr>\n",
       "      <th>14</th>\n",
       "      <td>2014-02-14 15:40:00</td>\n",
       "      <td>0.068</td>\n",
       "    </tr>\n",
       "    <tr>\n",
       "      <th>15</th>\n",
       "      <td>2014-02-14 15:45:00</td>\n",
       "      <td>0.134</td>\n",
       "    </tr>\n",
       "    <tr>\n",
       "      <th>16</th>\n",
       "      <td>2014-02-14 15:50:00</td>\n",
       "      <td>0.132</td>\n",
       "    </tr>\n",
       "    <tr>\n",
       "      <th>17</th>\n",
       "      <td>2014-02-14 15:55:00</td>\n",
       "      <td>0.134</td>\n",
       "    </tr>\n",
       "    <tr>\n",
       "      <th>18</th>\n",
       "      <td>2014-02-14 16:00:00</td>\n",
       "      <td>0.134</td>\n",
       "    </tr>\n",
       "    <tr>\n",
       "      <th>19</th>\n",
       "      <td>2014-02-14 16:05:00</td>\n",
       "      <td>0.136</td>\n",
       "    </tr>\n",
       "  </tbody>\n",
       "</table>\n",
       "</div>"
      ],
      "text/plain": [
       "              timestamp  value\n",
       "0   2014-02-14 14:30:00  0.132\n",
       "1   2014-02-14 14:35:00  0.134\n",
       "2   2014-02-14 14:40:00  0.134\n",
       "3   2014-02-14 14:45:00  0.134\n",
       "4   2014-02-14 14:50:00  0.134\n",
       "5   2014-02-14 14:55:00  0.134\n",
       "6   2014-02-14 15:00:00  0.134\n",
       "7   2014-02-14 15:05:00  0.134\n",
       "8   2014-02-14 15:10:00  0.066\n",
       "9   2014-02-14 15:15:00  0.132\n",
       "10  2014-02-14 15:20:00  0.134\n",
       "11  2014-02-14 15:25:00  0.066\n",
       "12  2014-02-14 15:30:00  0.132\n",
       "13  2014-02-14 15:35:00  0.202\n",
       "14  2014-02-14 15:40:00  0.068\n",
       "15  2014-02-14 15:45:00  0.134\n",
       "16  2014-02-14 15:50:00  0.132\n",
       "17  2014-02-14 15:55:00  0.134\n",
       "18  2014-02-14 16:00:00  0.134\n",
       "19  2014-02-14 16:05:00  0.136"
      ]
     },
     "execution_count": 5,
     "metadata": {},
     "output_type": "execute_result"
    }
   ],
   "source": [
    "df = pd.read_csv('../artifacts/data/ec2_cpu_utilization.csv') # Downloaded from the link above\n",
    "df.head(20)"
   ]
  },
  {
   "cell_type": "code",
   "execution_count": 7,
   "metadata": {},
   "outputs": [
    {
     "data": {
      "text/plain": [
       "0.09481284708142514"
      ]
     },
     "execution_count": 7,
     "metadata": {},
     "output_type": "execute_result"
    }
   ],
   "source": [
    "real_mean = df['value'].mean()\n",
    "real_std = df['value'].std() "
   ]
  },
  {
   "cell_type": "code",
   "execution_count": 145,
   "metadata": {},
   "outputs": [
    {
     "data": {
      "text/plain": [
       "0.066"
      ]
     },
     "execution_count": 145,
     "metadata": {},
     "output_type": "execute_result"
    }
   ],
   "source": [
    "df['value'].min()"
   ]
  },
  {
   "cell_type": "code",
   "execution_count": 158,
   "metadata": {},
   "outputs": [
    {
     "data": {
      "text/plain": [
       "array([0.1208819 , 0.10552115, 0.11669595, 0.10400402, 0.11956304,\n",
       "       0.12475188, 0.11634118, 0.1144921 , 0.11366835, 0.12502964,\n",
       "       0.09748884, 0.11275595, 0.11738515, 0.12475462, 0.09514071,\n",
       "       0.12503192, 0.12035811, 0.09556162, 0.10135798, 0.11412151,\n",
       "       0.11376416, 0.12366218, 0.112078  , 0.12342794, 0.11914966,\n",
       "       0.09481355, 0.11336875, 0.10299642, 0.09634465, 0.10126479,\n",
       "       0.11997172, 0.11190545, 0.10822826, 0.12357528, 0.10597802,\n",
       "       0.09777673, 0.12020531, 0.09755789, 0.10722693, 0.10050014,\n",
       "       0.09923196, 0.1235366 , 0.12625165, 0.10231923, 0.10109444,\n",
       "       0.12483311, 0.11675828, 0.10847986, 0.12111968, 0.1009202 ,\n",
       "       0.10432804, 0.10718265, 0.11994711, 0.12036343, 0.12002075,\n",
       "       0.11014736, 0.12282529, 0.1246446 , 0.11386985, 0.1189553 ,\n",
       "       0.11927258, 0.12415554, 0.1255723 , 0.11213942, 0.11911362,\n",
       "       0.1212573 , 0.09717689, 0.11392719, 0.09730962, 0.12182756,\n",
       "       0.11708257, 0.10274769, 0.1179342 , 0.11611477, 0.11229285,\n",
       "       0.10300866, 0.09876134, 0.09655116, 0.10323109, 0.10630166,\n",
       "       0.12423065, 0.10427934, 0.1042826 , 0.11154338, 0.09729914,\n",
       "       0.11524626, 0.10257932, 0.10553087, 0.12630109, 0.11123248,\n",
       "       0.12521683, 0.10771189, 0.12122963, 0.11606352, 0.09732338,\n",
       "       0.12100844, 0.10697398, 0.10371062, 0.09882561, 0.09782714,\n",
       "       0.09662746, 0.10340347, 0.11918243, 0.12569361, 0.09584531,\n",
       "       0.12029886, 0.12496071, 0.09970248, 0.09675381, 0.12499823,\n",
       "       0.10604874, 0.09932794, 0.09882572, 0.1236714 , 0.12442391,\n",
       "       0.11588728, 0.10173239, 0.10353298, 0.1256899 , 0.10985114,\n",
       "       0.09646692, 0.12104301, 0.11944453, 0.10494661, 0.11918171,\n",
       "       0.11341082, 0.12346858, 0.12486207, 0.10401699, 0.10143928,\n",
       "       0.10824482, 0.12373008, 0.12575546, 0.10864443, 0.09792316,\n",
       "       0.09562804, 0.12113211, 0.12220403, 0.12390896, 0.11953774,\n",
       "       0.11503632, 0.12342455, 0.09791241, 0.09834335, 0.11467634,\n",
       "       0.1097318 , 0.12153502, 0.11571954, 0.10881416, 0.11464316,\n",
       "       0.1250522 , 0.10505435, 0.09540413, 0.11584121, 0.11882119,\n",
       "       0.10300393, 0.10748506, 0.10323518, 0.12418004, 0.10061473,\n",
       "       0.10332728, 0.11224068, 0.0955854 , 0.11610457, 0.12100896,\n",
       "       0.11575693, 0.09492852, 0.10651835, 0.09513395, 0.12199168,\n",
       "       0.11505232, 0.11940803, 0.11273099, 0.11806326, 0.1224119 ,\n",
       "       0.10899954, 0.11683708, 0.10359272, 0.1061286 , 0.10742275,\n",
       "       0.12279838, 0.114902  , 0.09923664, 0.0976153 , 0.12515457,\n",
       "       0.09701575, 0.108702  , 0.11749498, 0.119366  , 0.1198977 ,\n",
       "       0.10826256, 0.12403052, 0.11671491, 0.11771154, 0.09971844,\n",
       "       0.11927367, 0.11673508, 0.12291143, 0.11212293, 0.09577418])"
      ]
     },
     "execution_count": 158,
     "metadata": {},
     "output_type": "execute_result"
    }
   ],
   "source": [
    "fake_values"
   ]
  },
  {
   "cell_type": "code",
   "execution_count": 93,
   "metadata": {},
   "outputs": [
    {
     "data": {
      "text/plain": [
       "array([ 1.82820245e-01,  3.42072258e-01,  4.04331477e-02,  1.65264973e-01,\n",
       "       -1.00300955e-02,  9.86952091e-02,  3.27633133e-02,  7.14851165e-02,\n",
       "        1.95365705e-01, -2.83347184e-02,  1.22706988e-01,  9.01092793e-02,\n",
       "        1.50336724e-01,  2.36382863e-01,  2.25975120e-01,  1.66123132e-01,\n",
       "        9.53800092e-02,  1.73050207e-01,  1.28017768e-01,  7.16950428e-02,\n",
       "        1.78473160e-01,  1.05197816e-01, -2.12352200e-02,  1.70347596e-01,\n",
       "        1.46092588e-01,  1.92253176e-01,  9.60033715e-02,  5.57530918e-02,\n",
       "        3.15394503e-01,  2.43345594e-01,  3.48832829e-03,  2.73017332e-01,\n",
       "        1.32468504e-01,  7.83479485e-02, -6.84173744e-03,  2.06254075e-01,\n",
       "       -2.99264536e-02,  6.54394275e-02,  1.05239425e-01, -3.23470140e-02,\n",
       "        1.17837074e-01,  5.64794195e-02,  3.05049170e-02,  1.06730553e-01,\n",
       "        2.19713849e-01,  2.43242132e-01,  3.34937159e-02,  2.01284776e-01,\n",
       "        1.34247483e-01,  2.17023207e-01,  6.81139159e-02,  1.26197116e-01,\n",
       "        5.48162852e-02,  1.08737562e-01,  7.47513576e-02,  2.78221449e-01,\n",
       "        1.59572955e-01,  4.32195385e-02,  3.15487295e-01,  1.73145692e-01,\n",
       "       -3.62580765e-02,  2.18845724e-01,  2.28465951e-01, -5.68626942e-02,\n",
       "        8.93466491e-02,  1.26279774e-02, -2.70812861e-02,  3.74006010e-02,\n",
       "        2.64534524e-01,  1.17646644e-01,  5.34726144e-02,  3.48418548e-01,\n",
       "        1.20523388e-01,  9.23430607e-02,  7.79066366e-02,  1.37676480e-01,\n",
       "        1.05560189e-01,  1.27205847e-01,  2.07485064e-01,  3.31459757e-02,\n",
       "        3.43506282e-02,  1.95789271e-01,  9.90247306e-02, -2.78316604e-02,\n",
       "        5.61768714e-03,  1.65340586e-01,  6.03438346e-02,  1.79482700e-01,\n",
       "        6.60951186e-02,  1.22238847e-02,  1.57956952e-01,  1.83647120e-01,\n",
       "        9.49887222e-02,  1.00053988e-01,  1.31847119e-01,  6.26484104e-02,\n",
       "        2.04139106e-01,  1.16599665e-01,  8.41385059e-02, -2.54295505e-02,\n",
       "        4.54675806e-02,  4.43734253e-02,  1.13741769e-01,  2.48525635e-01,\n",
       "        1.20416444e-02,  1.21134681e-01,  5.32606865e-02,  8.91360872e-02,\n",
       "        6.06257122e-02,  9.28583196e-02,  1.66892330e-01,  3.12832111e-01,\n",
       "        2.65775912e-01,  1.68113788e-01,  1.01276515e-01,  6.01442681e-02,\n",
       "        2.63270822e-01,  2.33948254e-01,  1.57686425e-01,  2.53905233e-01,\n",
       "       -1.15333232e-01,  1.96736600e-01,  9.64159495e-02, -6.50771704e-03,\n",
       "        5.95863611e-02, -1.60064319e-04, -3.65869658e-02,  1.13540028e-01,\n",
       "        1.80467132e-01,  1.07070015e-01,  2.42895761e-01,  9.31363938e-02,\n",
       "        2.52189898e-01,  6.90897881e-02,  1.28291709e-01,  1.47416358e-01,\n",
       "        1.61711826e-01,  2.10530993e-01,  6.66282910e-02,  9.04924625e-02,\n",
       "        8.78857393e-02,  2.17666583e-01,  1.59623715e-01,  2.08049158e-01,\n",
       "        2.15189871e-01,  1.06085187e-01,  3.01431915e-01,  8.92837601e-02,\n",
       "        5.29259960e-02,  2.17850794e-01])"
      ]
     },
     "execution_count": 93,
     "metadata": {},
     "output_type": "execute_result"
    }
   ],
   "source": [
    "fake_values"
   ]
  },
  {
   "cell_type": "code",
   "execution_count": 9,
   "metadata": {},
   "outputs": [
    {
     "data": {
      "text/plain": [
       "0.09481284708142514"
      ]
     },
     "execution_count": 9,
     "metadata": {},
     "output_type": "execute_result"
    }
   ],
   "source": [
    "real_std"
   ]
  },
  {
   "cell_type": "code",
   "execution_count": 7,
   "metadata": {},
   "outputs": [
    {
     "name": "stdout",
     "output_type": "stream",
     "text": [
      "<class 'pandas.core.frame.DataFrame'>\n",
      "RangeIndex: 4032 entries, 0 to 4031\n",
      "Data columns (total 2 columns):\n",
      " #   Column     Non-Null Count  Dtype  \n",
      "---  ------     --------------  -----  \n",
      " 0   timestamp  4032 non-null   object \n",
      " 1   value      4032 non-null   float64\n",
      "dtypes: float64(1), object(1)\n",
      "memory usage: 63.1+ KB\n"
     ]
    }
   ],
   "source": [
    "df.info()"
   ]
  },
  {
   "cell_type": "markdown",
   "metadata": {},
   "source": [
    "#### convert timestamp feature from 'object' type to 'timestamp'"
   ]
  },
  {
   "cell_type": "code",
   "execution_count": 8,
   "metadata": {},
   "outputs": [
    {
     "data": {
      "text/html": [
       "<div>\n",
       "<style scoped>\n",
       "    .dataframe tbody tr th:only-of-type {\n",
       "        vertical-align: middle;\n",
       "    }\n",
       "\n",
       "    .dataframe tbody tr th {\n",
       "        vertical-align: top;\n",
       "    }\n",
       "\n",
       "    .dataframe thead th {\n",
       "        text-align: right;\n",
       "    }\n",
       "</style>\n",
       "<table border=\"1\" class=\"dataframe\">\n",
       "  <thead>\n",
       "    <tr style=\"text-align: right;\">\n",
       "      <th></th>\n",
       "      <th>timestamp</th>\n",
       "      <th>value</th>\n",
       "    </tr>\n",
       "  </thead>\n",
       "  <tbody>\n",
       "    <tr>\n",
       "      <th>0</th>\n",
       "      <td>2014-02-14 14:30:00</td>\n",
       "      <td>0.132</td>\n",
       "    </tr>\n",
       "    <tr>\n",
       "      <th>1</th>\n",
       "      <td>2014-02-14 14:35:00</td>\n",
       "      <td>0.134</td>\n",
       "    </tr>\n",
       "    <tr>\n",
       "      <th>2</th>\n",
       "      <td>2014-02-14 14:40:00</td>\n",
       "      <td>0.134</td>\n",
       "    </tr>\n",
       "    <tr>\n",
       "      <th>3</th>\n",
       "      <td>2014-02-14 14:45:00</td>\n",
       "      <td>0.134</td>\n",
       "    </tr>\n",
       "    <tr>\n",
       "      <th>4</th>\n",
       "      <td>2014-02-14 14:50:00</td>\n",
       "      <td>0.134</td>\n",
       "    </tr>\n",
       "  </tbody>\n",
       "</table>\n",
       "</div>"
      ],
      "text/plain": [
       "            timestamp  value\n",
       "0 2014-02-14 14:30:00  0.132\n",
       "1 2014-02-14 14:35:00  0.134\n",
       "2 2014-02-14 14:40:00  0.134\n",
       "3 2014-02-14 14:45:00  0.134\n",
       "4 2014-02-14 14:50:00  0.134"
      ]
     },
     "execution_count": 8,
     "metadata": {},
     "output_type": "execute_result"
    }
   ],
   "source": [
    "df['timestamp'] = pd.to_datetime(df['timestamp'])\n",
    "df.head()"
   ]
  },
  {
   "cell_type": "code",
   "execution_count": 9,
   "metadata": {},
   "outputs": [
    {
     "name": "stdout",
     "output_type": "stream",
     "text": [
      "<class 'pandas.core.frame.DataFrame'>\n",
      "RangeIndex: 4032 entries, 0 to 4031\n",
      "Data columns (total 2 columns):\n",
      " #   Column     Non-Null Count  Dtype         \n",
      "---  ------     --------------  -----         \n",
      " 0   timestamp  4032 non-null   datetime64[ns]\n",
      " 1   value      4032 non-null   float64       \n",
      "dtypes: datetime64[ns](1), float64(1)\n",
      "memory usage: 63.1 KB\n"
     ]
    }
   ],
   "source": [
    "df.info()"
   ]
  },
  {
   "cell_type": "markdown",
   "metadata": {},
   "source": [
    "#### anomalies detected are detected in these timestamps according to the website : \n",
    "\"2014-02-26 22:05:00\",\n",
    "\"2014-02-27 17:15:00\""
   ]
  },
  {
   "cell_type": "code",
   "execution_count": 20,
   "metadata": {},
   "outputs": [
    {
     "data": {
      "text/html": [
       "<div>\n",
       "<style scoped>\n",
       "    .dataframe tbody tr th:only-of-type {\n",
       "        vertical-align: middle;\n",
       "    }\n",
       "\n",
       "    .dataframe tbody tr th {\n",
       "        vertical-align: top;\n",
       "    }\n",
       "\n",
       "    .dataframe thead th {\n",
       "        text-align: right;\n",
       "    }\n",
       "</style>\n",
       "<table border=\"1\" class=\"dataframe\">\n",
       "  <thead>\n",
       "    <tr style=\"text-align: right;\">\n",
       "      <th></th>\n",
       "      <th>timestamp</th>\n",
       "      <th>value</th>\n",
       "    </tr>\n",
       "  </thead>\n",
       "  <tbody>\n",
       "    <tr>\n",
       "      <th>3547</th>\n",
       "      <td>2014-02-26 22:05:00</td>\n",
       "      <td>2.344</td>\n",
       "    </tr>\n",
       "  </tbody>\n",
       "</table>\n",
       "</div>"
      ],
      "text/plain": [
       "               timestamp  value\n",
       "3547 2014-02-26 22:05:00  2.344"
      ]
     },
     "execution_count": 20,
     "metadata": {},
     "output_type": "execute_result"
    }
   ],
   "source": [
    "df[(df['timestamp']=='2014-02-26 22:05:00')] "
   ]
  },
  {
   "cell_type": "code",
   "execution_count": 21,
   "metadata": {},
   "outputs": [
    {
     "data": {
      "text/html": [
       "<div>\n",
       "<style scoped>\n",
       "    .dataframe tbody tr th:only-of-type {\n",
       "        vertical-align: middle;\n",
       "    }\n",
       "\n",
       "    .dataframe tbody tr th {\n",
       "        vertical-align: top;\n",
       "    }\n",
       "\n",
       "    .dataframe thead th {\n",
       "        text-align: right;\n",
       "    }\n",
       "</style>\n",
       "<table border=\"1\" class=\"dataframe\">\n",
       "  <thead>\n",
       "    <tr style=\"text-align: right;\">\n",
       "      <th></th>\n",
       "      <th>timestamp</th>\n",
       "      <th>value</th>\n",
       "    </tr>\n",
       "  </thead>\n",
       "  <tbody>\n",
       "    <tr>\n",
       "      <th>3777</th>\n",
       "      <td>2014-02-27 17:15:00</td>\n",
       "      <td>0.602</td>\n",
       "    </tr>\n",
       "  </tbody>\n",
       "</table>\n",
       "</div>"
      ],
      "text/plain": [
       "               timestamp  value\n",
       "3777 2014-02-27 17:15:00  0.602"
      ]
     },
     "execution_count": 21,
     "metadata": {},
     "output_type": "execute_result"
    }
   ],
   "source": [
    "df[(df['timestamp']=='2014-02-27 17:15:00')] "
   ]
  },
  {
   "cell_type": "markdown",
   "metadata": {},
   "source": [
    "#### label our data : "
   ]
  },
  {
   "cell_type": "code",
   "execution_count": 24,
   "metadata": {},
   "outputs": [],
   "source": [
    "anomalies_timestamp = [\n",
    "        \"2014-02-26 22:05:00\",\n",
    "        \"2014-02-27 17:15:00\"\n",
    "    ]"
   ]
  },
  {
   "cell_type": "code",
   "execution_count": 25,
   "metadata": {},
   "outputs": [
    {
     "data": {
      "text/html": [
       "<div>\n",
       "<style scoped>\n",
       "    .dataframe tbody tr th:only-of-type {\n",
       "        vertical-align: middle;\n",
       "    }\n",
       "\n",
       "    .dataframe tbody tr th {\n",
       "        vertical-align: top;\n",
       "    }\n",
       "\n",
       "    .dataframe thead th {\n",
       "        text-align: right;\n",
       "    }\n",
       "</style>\n",
       "<table border=\"1\" class=\"dataframe\">\n",
       "  <thead>\n",
       "    <tr style=\"text-align: right;\">\n",
       "      <th></th>\n",
       "      <th>timestamp</th>\n",
       "      <th>value</th>\n",
       "      <th>is_anomaly</th>\n",
       "    </tr>\n",
       "  </thead>\n",
       "  <tbody>\n",
       "    <tr>\n",
       "      <th>0</th>\n",
       "      <td>2014-02-14 14:30:00</td>\n",
       "      <td>0.132</td>\n",
       "      <td>1</td>\n",
       "    </tr>\n",
       "    <tr>\n",
       "      <th>1</th>\n",
       "      <td>2014-02-14 14:35:00</td>\n",
       "      <td>0.134</td>\n",
       "      <td>1</td>\n",
       "    </tr>\n",
       "    <tr>\n",
       "      <th>2</th>\n",
       "      <td>2014-02-14 14:40:00</td>\n",
       "      <td>0.134</td>\n",
       "      <td>1</td>\n",
       "    </tr>\n",
       "    <tr>\n",
       "      <th>3</th>\n",
       "      <td>2014-02-14 14:45:00</td>\n",
       "      <td>0.134</td>\n",
       "      <td>1</td>\n",
       "    </tr>\n",
       "    <tr>\n",
       "      <th>4</th>\n",
       "      <td>2014-02-14 14:50:00</td>\n",
       "      <td>0.134</td>\n",
       "      <td>1</td>\n",
       "    </tr>\n",
       "  </tbody>\n",
       "</table>\n",
       "</div>"
      ],
      "text/plain": [
       "            timestamp  value  is_anomaly\n",
       "0 2014-02-14 14:30:00  0.132           1\n",
       "1 2014-02-14 14:35:00  0.134           1\n",
       "2 2014-02-14 14:40:00  0.134           1\n",
       "3 2014-02-14 14:45:00  0.134           1\n",
       "4 2014-02-14 14:50:00  0.134           1"
      ]
     },
     "execution_count": 25,
     "metadata": {},
     "output_type": "execute_result"
    }
   ],
   "source": [
    "df['is_anomaly'] = 1\n",
    "\n",
    "for each in anomalies_timestamp:\n",
    "    df.loc[df['timestamp'] == each, 'is_anomaly'] = -1\n",
    "    \n",
    "df.head()"
   ]
  },
  {
   "cell_type": "code",
   "execution_count": 26,
   "metadata": {},
   "outputs": [],
   "source": [
    "anomaly_df = df.loc[df['is_anomaly'] == -1]\n",
    "inlier_df = df.loc[df['is_anomaly'] == 1]"
   ]
  },
  {
   "cell_type": "markdown",
   "metadata": {},
   "source": [
    "#### display the data : "
   ]
  },
  {
   "cell_type": "code",
   "execution_count": 27,
   "metadata": {},
   "outputs": [
    {
     "data": {
      "image/png": "[encoded data removed]",
      "text/plain": [
       "<Figure size 648x432 with 1 Axes>"
      ]
     },
     "metadata": {
      "needs_background": "light"
     },
     "output_type": "display_data"
    }
   ],
   "source": [
    "fig, ax = plt.subplots()\n",
    "\n",
    "ax.scatter(inlier_df.index, inlier_df['value'], color='blue', s=3, label='Inlier')\n",
    "ax.scatter(anomaly_df.index, anomaly_df['value'], color='red', label='Anomaly')\n",
    "ax.set_xlabel('Time')\n",
    "ax.set_ylabel('CPU usage')\n",
    "ax.legend(loc=2)\n",
    "\n",
    "plt.grid(False)\n",
    "fig.autofmt_xdate()\n",
    "plt.tight_layout()"
   ]
  },
  {
   "cell_type": "markdown",
   "metadata": {},
   "source": [
    "#### devide the data to tain and test data : "
   ]
  },
  {
   "cell_type": "code",
   "execution_count": 28,
   "metadata": {},
   "outputs": [],
   "source": [
    "train = df[:3550]\n",
    "test = df[3550:]"
   ]
  },
  {
   "cell_type": "code",
   "execution_count": 31,
   "metadata": {},
   "outputs": [],
   "source": [
    "X_train = train['value'].values.reshape(-1,1)\n"
   ]
  },
  {
   "cell_type": "markdown",
   "metadata": {},
   "source": [
    "##### in this tutorial we will use the local outlier factor model to detect the anomalies : "
   ]
  },
  {
   "cell_type": "markdown",
   "metadata": {},
   "source": [
    "##### initialize the model : "
   ]
  },
  {
   "cell_type": "markdown",
   "metadata": {},
   "source": [
    "contamination is the proportion in the dataset , it could be 'auto' or a float value . if a float , the contamination should be in the range [0]"
   ]
  },
  {
   "cell_type": "code",
   "execution_count": 33,
   "metadata": {},
   "outputs": [],
   "source": [
    "contamination = 1/len(train)"
   ]
  },
  {
   "cell_type": "code",
   "execution_count": 34,
   "metadata": {},
   "outputs": [
    {
     "data": {
      "text/plain": [
       "LocalOutlierFactor(contamination=0.00028169014084507044, novelty=True)"
      ]
     },
     "execution_count": 34,
     "metadata": {},
     "output_type": "execute_result"
    }
   ],
   "source": [
    "from sklearn.neighbors import LocalOutlierFactor\n",
    "lof = LocalOutlierFactor(contamination=contamination, novelty=True)\n",
    "lof.fit(X_train)"
   ]
  },
  {
   "cell_type": "markdown",
   "metadata": {},
   "source": [
    "#### Evaluate the model : "
   ]
  },
  {
   "cell_type": "code",
   "execution_count": 35,
   "metadata": {},
   "outputs": [],
   "source": [
    "from sklearn.metrics import confusion_matrix, ConfusionMatrixDisplay"
   ]
  },
  {
   "cell_type": "code",
   "execution_count": 36,
   "metadata": {},
   "outputs": [],
   "source": [
    "preds_lof = lof.predict(test['value'].values.reshape(-1,1))"
   ]
  },
  {
   "cell_type": "code",
   "execution_count": 37,
   "metadata": {},
   "outputs": [
    {
     "data": {
      "image/png": "[encoded data removed]",
      "text/plain": [
       "<Figure size 648x432 with 2 Axes>"
      ]
     },
     "metadata": {
      "needs_background": "light"
     },
     "output_type": "display_data"
    }
   ],
   "source": [
    "cm = confusion_matrix(test['is_anomaly'], preds_lof, labels=[1, -1])\n",
    "\n",
    "disp_cm = ConfusionMatrixDisplay(cm, display_labels=[1, -1])\n",
    "\n",
    "disp_cm.plot();"
   ]
  },
  {
   "cell_type": "markdown",
   "metadata": {},
   "source": [
    "we can see that the model is able to detect the anomaly in the test set . "
   ]
  },
  {
   "cell_type": "markdown",
   "metadata": {},
   "source": [
    "#### Save the model : "
   ]
  },
  {
   "cell_type": "code",
   "execution_count": 38,
   "metadata": {},
   "outputs": [],
   "source": [
    "import joblib  "
   ]
  },
  {
   "cell_type": "code",
   "execution_count": 45,
   "metadata": {},
   "outputs": [],
   "source": [
    "def save_model(model_object,model_name) : \n",
    "      path='../artifacts/models/' \n",
    "      path_to_model=os.path.join(\"../artifacts/models/\",model_name)\n",
    "      joblib.dump(model_object,path_to_model) "
   ]
  },
  {
   "cell_type": "code",
   "execution_count": 46,
   "metadata": {},
   "outputs": [],
   "source": [
    "save_model(lof,'lof.joblib')"
   ]
  },
  {
   "cell_type": "markdown",
   "metadata": {},
   "source": [
    "#### Load the model : "
   ]
  },
  {
   "cell_type": "code",
   "execution_count": 2,
   "metadata": {},
   "outputs": [],
   "source": [
    "def load_anomaly_model(model_folder_path:str) :  \n",
    "    \"\"\"\n",
    "        this function loads the anomaly detection model \n",
    "    Args:\n",
    "        model_path (string): path to the model\n",
    "    Returns:\n",
    "        function : anomaly detection model \n",
    "    \"\"\"\n",
    "    json_pattern = os.path.join(model_folder_path, '*.joblib') \n",
    "    models_list = glob.glob(json_pattern) \n",
    "    model_path = models_list[0] \n",
    "    loaded_model=joblib.load(model_path) \n",
    "    return loaded_model\n"
   ]
  },
  {
   "cell_type": "code",
   "execution_count": 3,
   "metadata": {},
   "outputs": [],
   "source": [
    "model_folder_path = '../artifacts/models'  "
   ]
  },
  {
   "cell_type": "code",
   "execution_count": 4,
   "metadata": {},
   "outputs": [],
   "source": [
    "model=load_anomaly_model(model_folder_path)"
   ]
  },
  {
   "cell_type": "markdown",
   "metadata": {},
   "source": [
    "#### Generate fake data for predictions : "
   ]
  },
  {
   "cell_type": "code",
   "execution_count": 6,
   "metadata": {},
   "outputs": [],
   "source": [
    "fake_values = np.random.uniform(low=df['value'].min(),high=df['value'].max(),size=200)"
   ]
  },
  {
   "cell_type": "code",
   "execution_count": 12,
   "metadata": {},
   "outputs": [
    {
     "data": {
      "text/plain": [
       "1.8707878008362688"
      ]
     },
     "execution_count": 12,
     "metadata": {},
     "output_type": "execute_result"
    }
   ],
   "source": [
    "fake_values[0]"
   ]
  },
  {
   "cell_type": "code",
   "execution_count": 7,
   "metadata": {},
   "outputs": [],
   "source": [
    "predicitons = model.predict(fake_values.reshape(-1,1))"
   ]
  },
  {
   "cell_type": "code",
   "execution_count": 8,
   "metadata": {},
   "outputs": [],
   "source": [
    "data_pred={'values':fake_values,'predections':predicitons}"
   ]
  },
  {
   "cell_type": "code",
   "execution_count": 9,
   "metadata": {},
   "outputs": [],
   "source": [
    "data_pred = pd.DataFrame(data_pred)"
   ]
  },
  {
   "cell_type": "code",
   "execution_count": 10,
   "metadata": {},
   "outputs": [],
   "source": [
    "nrml_data = data_pred[data_pred['predections']== 1]\n",
    "anomalies = data_pred[data_pred['predections']== -1]"
   ]
  },
  {
   "cell_type": "markdown",
   "metadata": {},
   "source": [
    "#### Visualize the predictions : "
   ]
  },
  {
   "cell_type": "code",
   "execution_count": 11,
   "metadata": {},
   "outputs": [
    {
     "data": {
      "image/png": "[encoded data removed]",
      "text/plain": [
       "<Figure size 432x288 with 1 Axes>"
      ]
     },
     "metadata": {
      "needs_background": "light"
     },
     "output_type": "display_data"
    }
   ],
   "source": [
    "fig, ax = plt.subplots()\n",
    "\n",
    "ax.scatter(nrml_data.index, nrml_data['values'], color='blue', s=3, label='Inlier')\n",
    "ax.scatter(anomalies.index, anomalies['values'], color='red', label='Anomaly')\n",
    "ax.set_xlabel('Time')\n",
    "ax.set_ylabel('CPU usage')\n",
    "ax.legend(loc=2)\n",
    "\n",
    "plt.grid(False)\n",
    "fig.autofmt_xdate()\n",
    "plt.tight_layout()"
   ]
  }
 ],
 "metadata": {
  "kernelspec": {
   "display_name": "Python 3.6.2 ('rt-ml')",
   "language": "python",
   "name": "python3"
  },
  "language_info": {
   "codemirror_mode": {
    "name": "ipython",
    "version": 3
   },
   "file_extension": ".py",
   "mimetype": "text/x-python",
   "name": "python",
   "nbconvert_exporter": "python",
   "pygments_lexer": "ipython3",
   "version": "3.6.13"
  },
  "orig_nbformat": 4,
  "vscode": {
   "interpreter": {
    "hash": "85d16156ec71ea296d4176676b5a4dc7256e169e56272f467f575105184080c3"
   }
  }
 },
 "nbformat": 4,
 "nbformat_minor": 2
}
